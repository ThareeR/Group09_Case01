{
 "cells": [
  {
   "cell_type": "code",
   "execution_count": null,
   "id": "ff9def0f-63c2-4eaa-bb84-726dc8dfe04d",
   "metadata": {},
   "outputs": [],
   "source": [
    "import dash\n",
    "from dash import dcc, html\n",
    "import pandas as pd\n",
    "import plotly.express as px\n",
    "\n",
    "# Load the preprocessed data\n",
    "wine_df = pd.read_csv() #'preprocessed_wine_data.csv')\n",
    "\n",
    "external_stylesheets = [\n",
    "    {\n",
    "        \"href\": \"assets/style.css\",        \n",
    "        \"rel\": \"stylesheet\",\n",
    "    },\n",
    "]\n"
   ]
  }
 ],
 "metadata": {
  "kernelspec": {
   "display_name": "Python 3 (ipykernel)",
   "language": "python",
   "name": "python3"
  },
  "language_info": {
   "codemirror_mode": {
    "name": "ipython",
    "version": 3
   },
   "file_extension": ".py",
   "mimetype": "text/x-python",
   "name": "python",
   "nbconvert_exporter": "python",
   "pygments_lexer": "ipython3",
   "version": "3.12.7"
  }
 },
 "nbformat": 4,
 "nbformat_minor": 5
}
