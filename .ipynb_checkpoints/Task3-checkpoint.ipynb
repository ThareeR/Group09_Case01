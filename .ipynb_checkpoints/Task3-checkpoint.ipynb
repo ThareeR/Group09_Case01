{
 "cells": [
  {
   "cell_type": "code",
   "execution_count": 3,
   "id": "592a68f1-a932-414c-a68a-8c464ec793f0",
   "metadata": {},
   "outputs": [
    {
     "name": "stdout",
     "output_type": "stream",
     "text": [
      "                                              review\n",
      "0  Easily the best Sauvignon Blanc I've had to da...\n",
      "1                    Excellent, Mockingbird Inn?\\r\\n\n",
      "2  Absolutely incredible. One of the best sauvign...\n",
      "3                   Reported in nytimes. Did not try\n",
      "4  Great. Much different than other Sauv Blancs s...\n"
     ]
    }
   ],
   "source": [
    "import pandas as pd\n",
    "\n",
    "# Load the dataset\n",
    "data = pd.read_csv('wine_reviews.csv')\n",
    "\n",
    "# Display the first few rows of the dataset\n",
    "print(data.head())"
   ]
  },
  {
   "cell_type": "code",
   "execution_count": 5,
   "id": "0c0984f4-b6e4-4ecf-85e3-aa5fa9d22bbd",
   "metadata": {},
   "outputs": [],
   "source": [
    "import tensorflow as tf\n",
    "tf.get_logger().setLevel('ERROR')"
   ]
  },
  {
   "cell_type": "code",
   "execution_count": 7,
   "id": "dc349ffa-7591-4719-b03b-4147aba8ea7f",
   "metadata": {},
   "outputs": [
    {
     "name": "stderr",
     "output_type": "stream",
     "text": [
      "Some weights of the PyTorch model were not used when initializing the TF 2.0 model TFBartForSequenceClassification: ['model.decoder.version', 'model.encoder.version']\n",
      "- This IS expected if you are initializing TFBartForSequenceClassification from a PyTorch model trained on another task or with another architecture (e.g. initializing a TFBertForSequenceClassification model from a BertForPreTraining model).\n",
      "- This IS NOT expected if you are initializing TFBartForSequenceClassification from a PyTorch model that you expect to be exactly identical (e.g. initializing a TFBertForSequenceClassification model from a BertForSequenceClassification model).\n",
      "All the weights of TFBartForSequenceClassification were initialized from the PyTorch model.\n",
      "If your task is similar to the task the model of the checkpoint was trained on, you can already use TFBartForSequenceClassification for predictions without further training.\n",
      "Device set to use 0\n"
     ]
    }
   ],
   "source": [
    "from transformers import pipeline\n",
    "\n",
    "# Load the zero-shot classification pipeline with TensorFlow as the backend\n",
    "classifier = pipeline(\"zero-shot-classification\", model=\"facebook/bart-large-mnli\", framework=\"tf\")\n",
    "\n",
    "#facebook/bart-large-mnli model used because it is highly effective for assigning text to categories without requiring additional fine-tuning."
   ]
  },
  {
   "cell_type": "code",
   "execution_count": 9,
   "id": "c7cc50ab-2617-43f8-bc5f-03fc757028a0",
   "metadata": {},
   "outputs": [],
   "source": [
    "# Define candidate labels for classification\n",
    "labels = [\"talks about food combinations\", \"talks about taste\", \"talks about value for money\", \"other\"]"
   ]
  },
  {
   "cell_type": "code",
   "execution_count": null,
   "id": "c537b16c-467b-42fe-9e57-17e816713737",
   "metadata": {},
   "outputs": [],
   "source": []
  }
 ],
 "metadata": {
  "kernelspec": {
   "display_name": "Python 3 (ipykernel)",
   "language": "python",
   "name": "python3"
  },
  "language_info": {
   "codemirror_mode": {
    "name": "ipython",
    "version": 3
   },
   "file_extension": ".py",
   "mimetype": "text/x-python",
   "name": "python",
   "nbconvert_exporter": "python",
   "pygments_lexer": "ipython3",
   "version": "3.12.7"
  }
 },
 "nbformat": 4,
 "nbformat_minor": 5
}
