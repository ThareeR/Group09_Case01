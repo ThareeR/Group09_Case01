{
 "cells": [
  {
   "cell_type": "code",
   "execution_count": 137,
   "id": "ff9def0f-63c2-4eaa-bb84-726dc8dfe04d",
   "metadata": {},
   "outputs": [],
   "source": [
    "import dash\n",
    "from dash import dcc, html\n",
    "import pandas as pd\n",
    "import plotly.express as px\n",
    "import plotly.graph_objects as go\n",
    "\n",
    "wine_df = pd.read_csv('preprocessed_wine_data.csv')\n",
    "\n",
    "external_stylesheets = [\n",
    "    {\n",
    "        \"href\": \"assets/style.css\",        \n",
    "        \"rel\": \"stylesheet\",\n",
    "    },\n",
    "]\n"
   ]
  },
  {
   "cell_type": "code",
   "execution_count": 138,
   "id": "3500e375-3751-4efa-8afa-2769d496e18a",
   "metadata": {},
   "outputs": [],
   "source": [
    "# review_df = pd.read_csv('updated_wine_reviews.csv')"
   ]
  },
  {
   "cell_type": "code",
   "execution_count": 139,
   "id": "b35412fd-cfb7-46ea-bce4-3968eea27db2",
   "metadata": {},
   "outputs": [],
   "source": [
    "app = dash.Dash(__name__, external_stylesheets=external_stylesheets)\n",
    "app.title = \"The Story of Wine: From Grapes to Glass!\""
   ]
  },
  {
   "cell_type": "code",
   "execution_count": 140,
   "id": "beb0a52e-c5ae-4ba8-8f9e-a8406c46a44d",
   "metadata": {},
   "outputs": [],
   "source": [
    "excluded_countries = ['Langhe', 'Valtellina', 'Valpolicella Ripasso Classico', 'Paso Robles']\n",
    "\n",
    "dropdown_options = [\n",
    "    {'label': country, 'value': country} \n",
    "    for country in wine_df['Country'].unique() \n",
    "    if country not in excluded_countries\n",
    "]"
   ]
  },
  {
   "cell_type": "code",
   "execution_count": 141,
   "id": "9057afc4-16a4-4672-9eca-260541e0263e",
   "metadata": {},
   "outputs": [],
   "source": [
    "app.layout = html.Div([\n",
    "    html.Div(\n",
    "        style={\n",
    "            'display': 'flex',\n",
    "            'alignItems': 'center', \n",
    "            'justifyContent': 'center',  \n",
    "            'marginBottom': '20px' \n",
    "        },\n",
    "        children=[\n",
    "            html.H1(\"Wine Statistics Dashboard\"),  \n",
    "            html.Img(src='assets/wine.png', style={'width': '100px', 'height': 'auto'}) \n",
    "        ]\n",
    "    ),\n",
    "\n",
    "    html.Div(\n",
    "        style={'display': 'flex', 'flexWrap': 'wrap', 'justifyContent': 'space-between'},\n",
    "        children=[\n",
    "        # Graph for average price by country\n",
    "        html.Div(dcc.Graph(id='avg-price-country'), style={'flex': '1 1 30%', 'margin': '10px'}),\n",
    "            \n",
    "        # Graph for the Flavor Profile\n",
    "        html.Div(dcc.Graph(id='flavor-profile'), style={'flex': '1 1 30%', 'margin': '10px'}), \n",
    "\n",
    "        # Wine Reviews Graph\n",
    "        # html.Div(dcc.Graph(id='wine-reviews'), style={'flex': '1 1 30%', 'margin': '10px'}),\n",
    "\n",
    "        ]),\n",
    "    \n",
    "    dcc.Dropdown(\n",
    "        id='country-dropdown',\n",
    "        options=dropdown_options,\n",
    "        value=dropdown_options[0]['value'],\n",
    "        multi=False\n",
    "    ),\n",
    "    \n",
    "    html.Div(\n",
    "        style={'display': 'flex', 'flexWrap': 'wrap', 'justifyContent': 'space-between'},\n",
    "        children=[\n",
    "            \n",
    "            # Graph for price distribution\n",
    "            html.Div(dcc.Graph(id='price-distribution'), style={'flex': '1 1 30%', 'margin': '10px'}),\n",
    "            \n",
    "            # Graph for price vs. rating\n",
    "            html.Div(dcc.Graph(id='price-vs-rating'), style={'flex': '1 1 30%', 'margin': '10px'}),\n",
    "            \n",
    "            # Graph for the alcohol vs rating\n",
    "            html.Div(dcc.Graph(id='alcohol-vs-rating'), style={'flex': '1 1 30%', 'margin': '10px'}),\n",
    "\n",
    "            # Graph for food pairings\n",
    "            html.Div(dcc.Graph(id='food-pairings'), style={'flex': '1 1 30%', 'margin': '10px'}),\n",
    "\n",
    "        ]\n",
    "    )\n",
    "])"
   ]
  },
  {
   "cell_type": "code",
   "execution_count": 142,
   "id": "d8c9b902-4519-4cfd-9eb5-5a4e3062a64d",
   "metadata": {},
   "outputs": [],
   "source": [
    "# @app.callback(\n",
    "#     dash.dependencies.Output('wine-reviews', 'figure'),\n",
    "#     [dash.dependencies.Input('country-dropdown', 'value')] \n",
    "# )\n",
    "# def updated_wine_reviews(selected_country):\n",
    "    \n",
    "#     if selected_country:\n",
    "#     filtered_data = review_df[wine_df['Country'] == selected_country]\n",
    "    \n",
    "#     else:\n",
    "#        filtered_data = review_df\n",
    "\n",
    " \n",
    "#     talks_about_counts = filtered_data['talks_about'].value_counts().reset_index()\n",
    "#     talks_about_counts.columns = ['Category', 'Count']\n",
    "    \n",
    "#     fig = go.Figure(\n",
    "#         data=[go.Pie(\n",
    "#             labels=talks_about_counts['Category'],\n",
    "#             values=talks_about_counts['Count'],\n",
    "#             hole=0.3\n",
    "#         )]\n",
    "#     )\n",
    "\n",
    "#     fig.update_layout(\n",
    "#         title=\"Types of Wine Reviews\" if selected_country else \"Types of Wine Reviews\",\n",
    "#         height=600\n",
    "#     )\n",
    "\n",
    "#     return fig\n"
   ]
  },
  {
   "cell_type": "code",
   "execution_count": 143,
   "id": "2ffab245-696d-4da8-8af8-c13a771e9af1",
   "metadata": {},
   "outputs": [],
   "source": [
    "@app.callback(\n",
    "    dash.dependencies.Output('avg-price-country', 'figure'),\n",
    "    [dash.dependencies.Input('country-dropdown', 'value')] \n",
    ")\n",
    "def update_avg_price_country(selected_country):\n",
    "    filtered_df = wine_df[wine_df['Country'].isin([option['value'] for option in dropdown_options])]\n",
    "    \n",
    "    avg_price = filtered_df.groupby('Country')['Price'].mean().reset_index()\n",
    "    \n",
    "    fig = px.bar(avg_price, x='Country', y='Price', title='Average Price by Country')\n",
    "    \n",
    "    return fig"
   ]
  },
  {
   "cell_type": "code",
   "execution_count": 144,
   "id": "c1f46f0d-75ac-44c7-9ac8-7b2210da8249",
   "metadata": {},
   "outputs": [],
   "source": [
    "@app.callback(\n",
    "    dash.dependencies.Output('flavor-profile', 'figure'),\n",
    "    [dash.dependencies.Input('country-dropdown', 'value')]\n",
    ")\n",
    "def update_flavor_profile(selected_country):\n",
    "    flavor_columns = ['Bold', 'Tannin', 'Sweet', 'Acidic']\n",
    "    \n",
    "    overall_avg_flavors = wine_df[flavor_columns].mean().reset_index()\n",
    "    overall_avg_flavors.columns = ['Flavor', 'Average']\n",
    "\n",
    "    fig = go.Figure(data=go.Pie(\n",
    "        labels=overall_avg_flavors['Flavor'],\n",
    "        values=overall_avg_flavors['Average'],\n",
    "        hole=0.3 \n",
    "    ))\n",
    "\n",
    "    fig.update_layout(\n",
    "        title='Average Flavor Profiles',\n",
    "        height=600\n",
    "    )\n",
    "    \n",
    "    return fig"
   ]
  },
  {
   "cell_type": "code",
   "execution_count": 145,
   "id": "73a2183b-e307-4c27-8dc0-a829e0bcfd9e",
   "metadata": {},
   "outputs": [],
   "source": [
    "@app.callback(\n",
    "    dash.dependencies.Output('price-distribution', 'figure'),\n",
    "    [dash.dependencies.Input('country-dropdown', 'value')]\n",
    ")\n",
    "def update_price_distribution(selected_country):\n",
    "    filtered_df = wine_df[wine_df['Country'] == selected_country]\n",
    "    fig = px.box(filtered_df, y='Price', title='Price Distribution')\n",
    "    return fig"
   ]
  },
  {
   "cell_type": "code",
   "execution_count": 146,
   "id": "bafc3ee0-2674-46fc-8c1b-d01a16811099",
   "metadata": {},
   "outputs": [],
   "source": [
    "@app.callback(\n",
    "    dash.dependencies.Output('food-pairings', 'figure'),\n",
    "    [dash.dependencies.Input('country-dropdown', 'value')]  \n",
    ")\n",
    "def update_food_pairings(selected_country):\n",
    "    filtered_df = wine_df[wine_df['Country'] == selected_country]\n",
    "    food_columns = wine_df.columns[12:]  # Food pairing columns start from the 13th column\n",
    "    food_counts = wine_df[food_columns].sum().reset_index()\n",
    "    food_counts.columns = ['Food', 'Count']\n",
    "    fig = px.bar(food_counts, x='Food', y='Count', title='Food Pairings Count')\n",
    "    return fig"
   ]
  },
  {
   "cell_type": "code",
   "execution_count": 147,
   "id": "4035c8bd-0daf-4db3-b142-8e7489d6fc46",
   "metadata": {},
   "outputs": [],
   "source": [
    "@app.callback(\n",
    "    dash.dependencies.Output('price-vs-rating', 'figure'),\n",
    "    [dash.dependencies.Input('country-dropdown', 'value')]  \n",
    ")\n",
    "def update_price_vs_rating(selected_country):\n",
    "    filtered_df = wine_df[wine_df['Country'] == selected_country]\n",
    "    filtered_df = filtered_df.dropna(subset=['Price', 'Rating'])\n",
    "    fig = px.scatter(filtered_df, x='Price', y='Rating', title='Price vs. Rating', trendline='ols')\n",
    "    return fig"
   ]
  },
  {
   "cell_type": "code",
   "execution_count": 148,
   "id": "7d350f4d-4c63-4451-a8ea-ef7843b9a974",
   "metadata": {},
   "outputs": [],
   "source": [
    "@app.callback(\n",
    "    dash.dependencies.Output('alcohol-vs-rating', 'figure'),\n",
    "    [dash.dependencies.Input('country-dropdown', 'value')]\n",
    ")\n",
    "def update_alcohol_vs_rating(selected_country):\n",
    "    filtered_df = wine_df[wine_df['Country'] == selected_country]\n",
    "    filtered_df = filtered_df.dropna(subset=['Alcohol content', 'Rating'])  \n",
    "   \n",
    "    avg_alcohol_by_rating = filtered_df.groupby('Rating')['Alcohol content'].mean().reset_index()\n",
    "    \n",
    "    fig = px.line(avg_alcohol_by_rating, x='Rating', y='Alcohol content', title='Average Alcohol Content by Rating')\n",
    "    return fig"
   ]
  },
  {
   "cell_type": "code",
   "execution_count": 149,
   "id": "462d9e83-e527-4184-9409-b705dcd600ca",
   "metadata": {},
   "outputs": [
    {
     "data": {
      "text/html": [
       "\n",
       "        <iframe\n",
       "            width=\"100%\"\n",
       "            height=\"650\"\n",
       "            src=\"http://127.0.0.1:8050/\"\n",
       "            frameborder=\"0\"\n",
       "            allowfullscreen\n",
       "            \n",
       "        ></iframe>\n",
       "        "
      ],
      "text/plain": [
       "<IPython.lib.display.IFrame at 0x25a45251d90>"
      ]
     },
     "metadata": {},
     "output_type": "display_data"
    }
   ],
   "source": [
    "if __name__ == '__main__':\n",
    "    app.run_server(debug=True)"
   ]
  },
  {
   "cell_type": "code",
   "execution_count": null,
   "id": "19decbab-701a-4ce0-9ce5-713def6611dc",
   "metadata": {},
   "outputs": [],
   "source": []
  }
 ],
 "metadata": {
  "kernelspec": {
   "display_name": "Python 3 (ipykernel)",
   "language": "python",
   "name": "python3"
  },
  "language_info": {
   "codemirror_mode": {
    "name": "ipython",
    "version": 3
   },
   "file_extension": ".py",
   "mimetype": "text/x-python",
   "name": "python",
   "nbconvert_exporter": "python",
   "pygments_lexer": "ipython3",
   "version": "3.12.4"
  }
 },
 "nbformat": 4,
 "nbformat_minor": 5
}
