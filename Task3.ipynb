{
 "cells": [
  {
   "cell_type": "code",
   "execution_count": 1,
   "id": "592a68f1-a932-414c-a68a-8c464ec793f0",
   "metadata": {},
   "outputs": [
    {
     "name": "stdout",
     "output_type": "stream",
     "text": [
      "                                              review\n",
      "0  Easily the best Sauvignon Blanc I've had to da...\n",
      "1                    Excellent, Mockingbird Inn?\\r\\n\n",
      "2  Absolutely incredible. One of the best sauvign...\n",
      "3                   Reported in nytimes. Did not try\n",
      "4  Great. Much different than other Sauv Blancs s...\n"
     ]
    }
   ],
   "source": [
    "import pandas as pd\n",
    "\n",
    "# Load the dataset\n",
    "data = pd.read_csv('wine_reviews.csv')\n",
    "\n",
    "# Display the first few rows of the dataset\n",
    "print(data.head())"
   ]
  },
  {
   "cell_type": "code",
   "execution_count": 2,
   "id": "0c0984f4-b6e4-4ecf-85e3-aa5fa9d22bbd",
   "metadata": {},
   "outputs": [],
   "source": [
    "import tensorflow as tf\n",
    "tf.get_logger().setLevel('ERROR')"
   ]
  },
  {
   "cell_type": "code",
   "execution_count": 3,
   "id": "dc349ffa-7591-4719-b03b-4147aba8ea7f",
   "metadata": {},
   "outputs": [
    {
     "name": "stderr",
     "output_type": "stream",
     "text": [
      "Some weights of the PyTorch model were not used when initializing the TF 2.0 model TFBartForSequenceClassification: ['model.decoder.version', 'model.encoder.version']\n",
      "- This IS expected if you are initializing TFBartForSequenceClassification from a PyTorch model trained on another task or with another architecture (e.g. initializing a TFBertForSequenceClassification model from a BertForPreTraining model).\n",
      "- This IS NOT expected if you are initializing TFBartForSequenceClassification from a PyTorch model that you expect to be exactly identical (e.g. initializing a TFBertForSequenceClassification model from a BertForSequenceClassification model).\n",
      "All the weights of TFBartForSequenceClassification were initialized from the PyTorch model.\n",
      "If your task is similar to the task the model of the checkpoint was trained on, you can already use TFBartForSequenceClassification for predictions without further training.\n",
      "Device set to use 0\n"
     ]
    }
   ],
   "source": [
    "from transformers import pipeline\n",
    "\n",
    "# Load the zero-shot classification pipeline with TensorFlow as the backend\n",
    "classifier = pipeline(\"zero-shot-classification\", model=\"facebook/bart-large-mnli\", framework=\"tf\")\n",
    "\n",
    "#facebook/bart-large-mnli model used because it is highly effective for assigning text to categories without requiring additional fine-tuning."
   ]
  },
  {
   "cell_type": "code",
   "execution_count": 8,
   "id": "c7cc50ab-2617-43f8-bc5f-03fc757028a0",
   "metadata": {},
   "outputs": [],
   "source": [
    "# Define candidate labels for classification\n",
    "labels = [\"talks about food combinations\", \"talks about taste\", \"talks about value for money\", \"other\"]"
   ]
  },
  {
   "cell_type": "code",
   "execution_count": 9,
   "id": "c537b16c-467b-42fe-9e57-17e816713737",
   "metadata": {},
   "outputs": [],
   "source": [
    "# Classify each review\n",
    "def classify_review(review):\n",
    "    result = classifier(review, candidate_labels=labels)\n",
    "    return result['labels'][0]  # Return the label with the highest score"
   ]
  },
  {
   "cell_type": "code",
   "execution_count": 10,
   "id": "cca44de0-4dd3-4967-a0d9-f6f1f02a8db8",
   "metadata": {},
   "outputs": [
    {
     "data": {
      "text/html": [
       "<div>\n",
       "<style scoped>\n",
       "    .dataframe tbody tr th:only-of-type {\n",
       "        vertical-align: middle;\n",
       "    }\n",
       "\n",
       "    .dataframe tbody tr th {\n",
       "        vertical-align: top;\n",
       "    }\n",
       "\n",
       "    .dataframe thead th {\n",
       "        text-align: right;\n",
       "    }\n",
       "</style>\n",
       "<table border=\"1\" class=\"dataframe\">\n",
       "  <thead>\n",
       "    <tr style=\"text-align: right;\">\n",
       "      <th></th>\n",
       "      <th>review</th>\n",
       "    </tr>\n",
       "  </thead>\n",
       "  <tbody>\n",
       "    <tr>\n",
       "      <th>0</th>\n",
       "      <td>Easily the best Sauvignon Blanc I've had to da...</td>\n",
       "    </tr>\n",
       "    <tr>\n",
       "      <th>1</th>\n",
       "      <td>Excellent, Mockingbird Inn?\\r\\n</td>\n",
       "    </tr>\n",
       "    <tr>\n",
       "      <th>2</th>\n",
       "      <td>Absolutely incredible. One of the best sauvign...</td>\n",
       "    </tr>\n",
       "    <tr>\n",
       "      <th>3</th>\n",
       "      <td>Reported in nytimes. Did not try</td>\n",
       "    </tr>\n",
       "    <tr>\n",
       "      <th>4</th>\n",
       "      <td>Great. Much different than other Sauv Blancs s...</td>\n",
       "    </tr>\n",
       "  </tbody>\n",
       "</table>\n",
       "</div>"
      ],
      "text/plain": [
       "                                              review\n",
       "0  Easily the best Sauvignon Blanc I've had to da...\n",
       "1                    Excellent, Mockingbird Inn?\\r\\n\n",
       "2  Absolutely incredible. One of the best sauvign...\n",
       "3                   Reported in nytimes. Did not try\n",
       "4  Great. Much different than other Sauv Blancs s..."
      ]
     },
     "execution_count": 10,
     "metadata": {},
     "output_type": "execute_result"
    }
   ],
   "source": [
    "data.head()"
   ]
  },
  {
   "cell_type": "code",
   "execution_count": 11,
   "id": "910ff5df-3cc9-453f-8ad0-a0a2572a9954",
   "metadata": {},
   "outputs": [],
   "source": [
    "data['talks_about'] = data['review'].apply(classify_review)\n",
    "\n",
    "# Save the updated dataset\n",
    "data.to_csv('updated_wine_reviews.csv', index=False)"
   ]
  },
  {
   "cell_type": "code",
   "execution_count": null,
   "id": "9dcbd7b6-2ee6-48b3-b333-478d411069db",
   "metadata": {},
   "outputs": [],
   "source": []
  }
 ],
 "metadata": {
  "kernelspec": {
   "display_name": "Python 3 (ipykernel)",
   "language": "python",
   "name": "python3"
  },
  "language_info": {
   "codemirror_mode": {
    "name": "ipython",
    "version": 3
   },
   "file_extension": ".py",
   "mimetype": "text/x-python",
   "name": "python",
   "nbconvert_exporter": "python",
   "pygments_lexer": "ipython3",
   "version": "3.10.5"
  }
 },
 "nbformat": 4,
 "nbformat_minor": 5
}
