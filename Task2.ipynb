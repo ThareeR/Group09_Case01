{
 "cells": [
  {
   "cell_type": "code",
   "execution_count": 1,
   "id": "da024ab6-5605-442c-8b1e-84c4c488e44a",
   "metadata": {},
   "outputs": [],
   "source": [
    "import pandas as pd\n",
    "import glob\n",
    "file_paths = glob.glob(\"Wine_Stats/*.csv\")\n",
    "dataframes = [pd.read_csv(file) for file in file_paths]"
   ]
  },
  {
   "cell_type": "code",
   "execution_count": 2,
   "id": "3f6318a7-66c4-4019-97db-6b237f7a7c01",
   "metadata": {},
   "outputs": [
    {
     "name": "stdout",
     "output_type": "stream",
     "text": [
      "Combined DataFrame Shape: (5145, 15)\n",
      "   Unnamed: 0                                       Name  Rating  \\\n",
      "0           0                  Fields Of Joy Shiraz 2014     4.0   \n",
      "1           1                          Shotfire GSM 2018     3.9   \n",
      "2           2                  Passion has Red Lips 2020     3.8   \n",
      "3           3   The Hermit Crab Viognier - Marsanne 2018     3.8   \n",
      "4           4  Cabernet Sauvignon (Batch No. 1 & 3) 2019     3.8   \n",
      "\n",
      "   Number of Ratings  Price  \\\n",
      "0                203  28.99   \n",
      "1                 36  19.49   \n",
      "2                350  27.50   \n",
      "3               1026  16.99   \n",
      "4                969  14.99   \n",
      "\n",
      "                                              Region                  Winery  \\\n",
      "0  Australia / South Australia / Mount Lofty Rang...               Two Hands   \n",
      "1              Australia / South Australia / Barossa            Thorn-Clarke   \n",
      "2  Australia / South Australia / Fleurieu / McLar...        Some Young Punks   \n",
      "3  Australia / South Australia / Fleurieu / McLar...              d'Arenberg   \n",
      "4                Australia / South Eastern Australia  Gentleman's Collection   \n",
      "\n",
      "                      Wine style  Alcohol content  \\\n",
      "0              Australian Shiraz        13.794543   \n",
      "1     Australian Rhône Blend Red        14.500000   \n",
      "2   Australian Cabernet - Shiraz        13.794543   \n",
      "3                            NaN        13.794543   \n",
      "4  Australian Cabernet Sauvignon        13.794543   \n",
      "\n",
      "                              Grapes  \\\n",
      "0                                NaN   \n",
      "1  Mourvedre, Shiraz/Syrah, Grenache   \n",
      "2                                NaN   \n",
      "3                                NaN   \n",
      "4                                NaN   \n",
      "\n",
      "                                       Food pairings   Bold    Tannin  Sweet  \\\n",
      "0  ['Beef', 'Lamb', 'Game (deer, venison)', 'Poul...  85.00  47.13000  20.62   \n",
      "1  ['Beef', 'Pasta', 'Lamb', 'Game (deer, venison)']  85.00  50.63000   9.05   \n",
      "2                        ['Beef', 'Lamb', 'Poultry']  85.00  49.37000   8.19   \n",
      "3                                                 []  61.73  46.29527   9.05   \n",
      "4                        ['Beef', 'Lamb', 'Poultry']  76.34  49.36000  16.02   \n",
      "\n",
      "   Acidic  \n",
      "0  43.570  \n",
      "1  43.000  \n",
      "2  44.780  \n",
      "3  53.555  \n",
      "4  47.890  \n"
     ]
    }
   ],
   "source": [
    "wine_df = pd.concat(dataframes, ignore_index=True)\n",
    "print(f\"Combined DataFrame Shape: {wine_df.shape}\")\n",
    "print(wine_df.head())"
   ]
  },
  {
   "cell_type": "code",
   "execution_count": 4,
   "id": "8c4f064e-2c73-4311-bed6-7ebc720d4941",
   "metadata": {},
   "outputs": [
    {
     "name": "stdout",
     "output_type": "stream",
     "text": [
      "<class 'pandas.core.frame.DataFrame'>\n",
      "RangeIndex: 5145 entries, 0 to 5144\n",
      "Data columns (total 15 columns):\n",
      " #   Column             Non-Null Count  Dtype  \n",
      "---  ------             --------------  -----  \n",
      " 0   Unnamed: 0         5145 non-null   int64  \n",
      " 1   Name               5145 non-null   object \n",
      " 2   Rating             5145 non-null   float64\n",
      " 3   Number of Ratings  5145 non-null   int64  \n",
      " 4   Price              5145 non-null   float64\n",
      " 5   Region             5145 non-null   object \n",
      " 6   Winery             5142 non-null   object \n",
      " 7   Wine style         4624 non-null   object \n",
      " 8   Alcohol content    5145 non-null   float64\n",
      " 9   Grapes             2977 non-null   object \n",
      " 10  Food pairings      5145 non-null   object \n",
      " 11  Bold               5145 non-null   float64\n",
      " 12  Tannin             5145 non-null   float64\n",
      " 13  Sweet              5145 non-null   float64\n",
      " 14  Acidic             5145 non-null   float64\n",
      "dtypes: float64(7), int64(2), object(6)\n",
      "memory usage: 603.1+ KB\n",
      "None\n"
     ]
    }
   ],
   "source": [
    "print(wine_df.info()) #Gives an overview of the DataFrame"
   ]
  },
  {
   "cell_type": "code",
   "execution_count": 18,
   "id": "285ecb95-920c-4ad2-a8a7-835b56ff9f4e",
   "metadata": {},
   "outputs": [
    {
     "name": "stdout",
     "output_type": "stream",
     "text": [
      "Unnamed: 0             int64\n",
      "Name                  object\n",
      "Rating               float64\n",
      "Number of Ratings      int64\n",
      "Price                float64\n",
      "Region                object\n",
      "Winery                object\n",
      "Wine style            object\n",
      "Alcohol content      float64\n",
      "Grapes                object\n",
      "Food pairings         object\n",
      "Bold                 float64\n",
      "Tannin               float64\n",
      "Sweet                float64\n",
      "Acidic               float64\n",
      "dtype: object\n"
     ]
    }
   ],
   "source": [
    "print(wine_df.dtypes) #Gives only the data types of each column in the DataFrame"
   ]
  },
  {
   "cell_type": "code",
   "execution_count": 5,
   "id": "f7a9b0f1-7fbb-4971-b38b-c4302610eace",
   "metadata": {},
   "outputs": [
    {
     "name": "stdout",
     "output_type": "stream",
     "text": [
      "        Unnamed: 0       Rating  Number of Ratings        Price  \\\n",
      "count  5145.000000  5145.000000        5145.000000  5145.000000   \n",
      "mean    503.271914     4.000292         601.032653    27.424618   \n",
      "std     406.492427     0.157726        2725.500208    10.645818   \n",
      "min       0.000000     3.700000          25.000000     6.500000   \n",
      "25%     164.000000     3.900000          73.000000    19.980000   \n",
      "50%     377.000000     4.000000         189.000000    25.990000   \n",
      "75%     790.000000     4.100000         483.000000    34.000000   \n",
      "max    1436.000000     4.600000      159937.000000   155.000000   \n",
      "\n",
      "       Alcohol content         Bold       Tannin        Sweet       Acidic  \n",
      "count      5145.000000  5145.000000  5145.000000  5145.000000  5145.000000  \n",
      "mean         13.794363    57.990384    46.293535    12.259602    54.096125  \n",
      "std           1.242644    19.081310    11.092394    12.306948    14.463969  \n",
      "min           5.000000     0.060000     1.400000     0.010000     7.230000  \n",
      "25%          13.500000    45.330000    46.295270     6.230000    44.700000  \n",
      "50%          13.794543    61.730000    46.295270     9.050000    53.555000  \n",
      "75%          14.000000    69.620000    48.610000    13.200000    63.550000  \n",
      "max          20.500000    85.000000    85.000000    85.000000    85.000000  \n"
     ]
    }
   ],
   "source": [
    "print(wine_df.describe())  #Gives a summary of the statistical properties of the numerical columns in the DataFrame"
   ]
  },
  {
   "cell_type": "code",
   "execution_count": 6,
   "id": "9a221a5f-5834-42cb-94c3-bc905c1d9c3f",
   "metadata": {},
   "outputs": [],
   "source": [
    "#Task2_Part2_2.Remove any duplicate records\n",
    "wine_df = wine_df.drop_duplicates()"
   ]
  },
  {
   "cell_type": "code",
   "execution_count": 7,
   "id": "e0edc829-8c00-41b1-a1ac-94d60c076cb3",
   "metadata": {},
   "outputs": [
    {
     "name": "stdout",
     "output_type": "stream",
     "text": [
      "Unnamed: 0              0\n",
      "Name                    0\n",
      "Rating                  0\n",
      "Number of Ratings       0\n",
      "Price                   0\n",
      "Region                  0\n",
      "Winery                  3\n",
      "Wine style            521\n",
      "Alcohol content         0\n",
      "Grapes               2168\n",
      "Food pairings           0\n",
      "Bold                    0\n",
      "Tannin                  0\n",
      "Sweet                   0\n",
      "Acidic                  0\n",
      "dtype: int64\n"
     ]
    }
   ],
   "source": [
    "#removing null records\n",
    "print(wine_df.isnull().sum())\n",
    "wine_df = wine_df.dropna()"
   ]
  },
  {
   "cell_type": "code",
   "execution_count": 8,
   "id": "b722ce37-d328-41a2-9088-236eeed7f674",
   "metadata": {},
   "outputs": [],
   "source": [
    "#Task 02 - 3. Handle outliers and missing values\n",
    "\n",
    "Q1 = wine_df['Price'].quantile(0.25)\n",
    "Q3 = wine_df['Price'].quantile(0.75)\n",
    "IQR = Q3 - Q1\n",
    "upper_threshold = Q3 + 1.5 * IQR \n",
    "\n"
   ]
  },
  {
   "cell_type": "code",
   "execution_count": 9,
   "id": "157f9af1-becb-4ea6-8596-62b84e7ab1ca",
   "metadata": {},
   "outputs": [
    {
     "data": {
      "image/png": "[encoded data removed]",
      "text/plain": [
       "<Figure size 640x480 with 1 Axes>"
      ]
     },
     "metadata": {},
     "output_type": "display_data"
    }
   ],
   "source": [
    "import matplotlib.pyplot as plt\n",
    "plt.boxplot(wine_df['Price'])\n",
    "plt.title(\"Price Distribution\")\n",
    "plt.show()\n",
    "\n",
    "wine_df = wine_df[wine_df['Price'] < upper_threshold]\n",
    "wine_df.fillna({'Price':wine_df['Price'].mean()},inplace=True)\n",
    "\n",
    "#Reasons for handling outliers and missing values.\n",
    "#Missing values reduces data quality and introducing bias.\n",
    "#The column or rows remove when a column has too many missing values."
   ]
  },
  {
   "cell_type": "code",
   "execution_count": 10,
   "id": "8537dd87-2b21-4392-b47d-c876ca6bdb00",
   "metadata": {},
   "outputs": [
    {
     "name": "stdout",
     "output_type": "stream",
     "text": [
      "   Unnamed: 0                       Name  Rating  Number of Ratings  Price  \\\n",
      "1           1          Shotfire GSM 2018     3.9                 36  19.49   \n",
      "5           5  Passion has Red Lips 2014     3.8                648  18.49   \n",
      "7           7         Jester Shiraz 2018     3.9                658  22.00   \n",
      "8           8     Shotfire Quartage 2016     3.8                 93  17.99   \n",
      "9           9     Stonehorse Shiraz 2018     4.0                288  29.17   \n",
      "\n",
      "                                              Region            Winery  \\\n",
      "1              Australia / South Australia / Barossa      Thorn-Clarke   \n",
      "5  Australia / South Australia / Fleurieu / McLar...  Some Young Punks   \n",
      "7  Australia / South Australia / Fleurieu / McLar...            Mitolo   \n",
      "8              Australia / South Australia / Barossa      Thorn-Clarke   \n",
      "9  Australia / South Australia / Barossa / Baross...           Kaesler   \n",
      "\n",
      "                     Wine style  Alcohol content  \\\n",
      "1    Australian Rhône Blend Red             14.5   \n",
      "5  Australian Cabernet - Shiraz             14.5   \n",
      "7             Australian Shiraz             14.5   \n",
      "8     Australian Bordeaux Blend             14.5   \n",
      "9             Australian Shiraz             14.0   \n",
      "\n",
      "                                       Grapes  \\\n",
      "1           Mourvedre, Shiraz/Syrah, Grenache   \n",
      "5      70 Shiraz/Syrah, 30 Cabernet Sauvignon   \n",
      "7                            100 Shiraz/Syrah   \n",
      "8  Cabernet Franc, Malbec, Cabernet Sauvignon   \n",
      "9                            100 Shiraz/Syrah   \n",
      "\n",
      "                                       Food pairings   Bold  Tannin  Sweet  \\\n",
      "1  ['Beef', 'Pasta', 'Lamb', 'Game (deer, venison)']  85.00   50.63   9.05   \n",
      "5                        ['Beef', 'Lamb', 'Poultry']  85.00   49.37   8.19   \n",
      "7  ['Beef', 'Lamb', 'Game (deer, venison)', 'Poul...  85.00   46.65  19.07   \n",
      "8  ['Beef', 'Pasta', 'Lamb', 'Game (deer, venison...  85.00   56.40  10.85   \n",
      "9  ['Beef', 'Lamb', 'Game (deer, venison)', 'Poul...  84.04   44.21  22.10   \n",
      "\n",
      "   Acidic    Country  \n",
      "1   43.00  Australia  \n",
      "5   44.78  Australia  \n",
      "7   44.18  Australia  \n",
      "8   65.28  Australia  \n",
      "9   41.95  Australia  \n"
     ]
    }
   ],
   "source": [
    "#Task2_part4_Adding new columns to the data frame\n",
    "#Country\n",
    "wine_df['Country'] = wine_df['Region'].apply(lambda x: x.split('/')[0].strip())\n",
    "print(wine_df.head())"
   ]
  },
  {
   "cell_type": "code",
   "execution_count": 11,
   "id": "d71f962e-42c2-4398-b2d2-a763ee685ef8",
   "metadata": {},
   "outputs": [
    {
     "name": "stdout",
     "output_type": "stream",
     "text": [
      "   Unnamed: 0                       Name  Rating  Number of Ratings  Price  \\\n",
      "1           1          Shotfire GSM 2018     3.9                 36  19.49   \n",
      "5           5  Passion has Red Lips 2014     3.8                648  18.49   \n",
      "7           7         Jester Shiraz 2018     3.9                658  22.00   \n",
      "8           8     Shotfire Quartage 2016     3.8                 93  17.99   \n",
      "9           9     Stonehorse Shiraz 2018     4.0                288  29.17   \n",
      "\n",
      "                                              Region            Winery  \\\n",
      "1              Australia / South Australia / Barossa      Thorn-Clarke   \n",
      "5  Australia / South Australia / Fleurieu / McLar...  Some Young Punks   \n",
      "7  Australia / South Australia / Fleurieu / McLar...            Mitolo   \n",
      "8              Australia / South Australia / Barossa      Thorn-Clarke   \n",
      "9  Australia / South Australia / Barossa / Baross...           Kaesler   \n",
      "\n",
      "                     Wine style  Alcohol content  \\\n",
      "1    Australian Rhône Blend Red             14.5   \n",
      "5  Australian Cabernet - Shiraz             14.5   \n",
      "7             Australian Shiraz             14.5   \n",
      "8     Australian Bordeaux Blend             14.5   \n",
      "9             Australian Shiraz             14.0   \n",
      "\n",
      "                                       Grapes  \\\n",
      "1           Mourvedre, Shiraz/Syrah, Grenache   \n",
      "5      70 Shiraz/Syrah, 30 Cabernet Sauvignon   \n",
      "7                            100 Shiraz/Syrah   \n",
      "8  Cabernet Franc, Malbec, Cabernet Sauvignon   \n",
      "9                            100 Shiraz/Syrah   \n",
      "\n",
      "                                       Food pairings   Bold  Tannin  Sweet  \\\n",
      "1  ['Beef', 'Pasta', 'Lamb', 'Game (deer, venison)']  85.00   50.63   9.05   \n",
      "5                        ['Beef', 'Lamb', 'Poultry']  85.00   49.37   8.19   \n",
      "7  ['Beef', 'Lamb', 'Game (deer, venison)', 'Poul...  85.00   46.65  19.07   \n",
      "8  ['Beef', 'Pasta', 'Lamb', 'Game (deer, venison...  85.00   56.40  10.85   \n",
      "9  ['Beef', 'Lamb', 'Game (deer, venison)', 'Poul...  84.04   44.21  22.10   \n",
      "\n",
      "   Acidic    Country   Country_Region  \n",
      "1   43.00  Australia  South Australia  \n",
      "5   44.78  Australia  South Australia  \n",
      "7   44.18  Australia  South Australia  \n",
      "8   65.28  Australia  South Australia  \n",
      "9   41.95  Australia  South Australia  \n"
     ]
    }
   ],
   "source": [
    "#Task2_part4_Adding new columns to the data frame\n",
    "#2.Country_region\n",
    "wine_df['Country_Region'] = wine_df['Region'].apply(lambda x: x.split(' / ')[1] if ' / ' in x else None)\n",
    "print(wine_df.head())\n",
    "\n"
   ]
  },
  {
   "cell_type": "code",
   "execution_count": 14,
   "id": "22183c40-548d-4481-9358-926e73670c8d",
   "metadata": {},
   "outputs": [
    {
     "name": "stdout",
     "output_type": "stream",
     "text": [
      "<class 'pandas.core.frame.DataFrame'>\n",
      "Index: 2931 entries, 1 to 5144\n",
      "Data columns (total 38 columns):\n",
      " #   Column                        Non-Null Count  Dtype  \n",
      "---  ------                        --------------  -----  \n",
      " 0   Unnamed: 0                    2931 non-null   int64  \n",
      " 1   Name                          2931 non-null   object \n",
      " 2   Rating                        2931 non-null   float64\n",
      " 3   Number of Ratings             2931 non-null   int64  \n",
      " 4   Price                         2931 non-null   float64\n",
      " 5   Region                        2931 non-null   object \n",
      " 6   Winery                        2931 non-null   object \n",
      " 7   Wine style                    2931 non-null   object \n",
      " 8   Alcohol content               2931 non-null   float64\n",
      " 9   Grapes                        2931 non-null   object \n",
      " 10  Bold                          2931 non-null   float64\n",
      " 11  Tannin                        2931 non-null   float64\n",
      " 12  Sweet                         2931 non-null   float64\n",
      " 13  Acidic                        2931 non-null   float64\n",
      " 14  Country                       2931 non-null   object \n",
      " 15  Country_Region                2927 non-null   object \n",
      " 16  Pasta                         2931 non-null   bool   \n",
      " 17  Poultry                       2931 non-null   bool   \n",
      " 18  Aperitif                      2931 non-null   bool   \n",
      " 19  Lamb                          2931 non-null   bool   \n",
      " 20  Mature and hard cheese        2931 non-null   bool   \n",
      " 21  Sweet desserts                2931 non-null   bool   \n",
      " 22  Lean fish                     2931 non-null   bool   \n",
      " 23  Rich fish (salmon, tuna etc)  2931 non-null   bool   \n",
      " 24  Goat cheese                   2931 non-null   bool   \n",
      " 25  Veal                          2931 non-null   bool   \n",
      " 26  Blue cheese                   2931 non-null   bool   \n",
      " 27  Mild and soft cheese          2931 non-null   bool   \n",
      " 28  Mushrooms                     2931 non-null   bool   \n",
      " 29  Beef                          2931 non-null   bool   \n",
      " 30  Game (deer, venison)          2931 non-null   bool   \n",
      " 31  Spicy food                    2931 non-null   bool   \n",
      " 32  Fruity desserts               2931 non-null   bool   \n",
      " 33  Cured Meat                    2931 non-null   bool   \n",
      " 34  Appetizers and snacks         2931 non-null   bool   \n",
      " 35  Pork                          2931 non-null   bool   \n",
      " 36  Vegetarian                    2931 non-null   bool   \n",
      " 37  Shellfish                     2931 non-null   bool   \n",
      "dtypes: bool(22), float64(7), int64(2), object(7)\n",
      "memory usage: 452.2+ KB\n",
      "None\n",
      "   Unnamed: 0                       Name  Rating  Number of Ratings  Price  \\\n",
      "1           1          Shotfire GSM 2018     3.9                 36  19.49   \n",
      "5           5  Passion has Red Lips 2014     3.8                648  18.49   \n",
      "7           7         Jester Shiraz 2018     3.9                658  22.00   \n",
      "8           8     Shotfire Quartage 2016     3.8                 93  17.99   \n",
      "9           9     Stonehorse Shiraz 2018     4.0                288  29.17   \n",
      "\n",
      "                                              Region            Winery  \\\n",
      "1              Australia / South Australia / Barossa      Thorn-Clarke   \n",
      "5  Australia / South Australia / Fleurieu / McLar...  Some Young Punks   \n",
      "7  Australia / South Australia / Fleurieu / McLar...            Mitolo   \n",
      "8              Australia / South Australia / Barossa      Thorn-Clarke   \n",
      "9  Australia / South Australia / Barossa / Baross...           Kaesler   \n",
      "\n",
      "                     Wine style  Alcohol content  \\\n",
      "1    Australian Rhône Blend Red             14.5   \n",
      "5  Australian Cabernet - Shiraz             14.5   \n",
      "7             Australian Shiraz             14.5   \n",
      "8     Australian Bordeaux Blend             14.5   \n",
      "9             Australian Shiraz             14.0   \n",
      "\n",
      "                                       Grapes  ...  Mushrooms  Beef  \\\n",
      "1           Mourvedre, Shiraz/Syrah, Grenache  ...      False  True   \n",
      "5      70 Shiraz/Syrah, 30 Cabernet Sauvignon  ...      False  True   \n",
      "7                            100 Shiraz/Syrah  ...      False  True   \n",
      "8  Cabernet Franc, Malbec, Cabernet Sauvignon  ...      False  True   \n",
      "9                            100 Shiraz/Syrah  ...      False  True   \n",
      "\n",
      "   Game (deer, venison)  Spicy food Fruity desserts Cured Meat  \\\n",
      "1                  True       False           False      False   \n",
      "5                 False       False           False      False   \n",
      "7                  True       False           False      False   \n",
      "8                  True       False           False      False   \n",
      "9                  True       False           False      False   \n",
      "\n",
      "   Appetizers and snacks   Pork  Vegetarian  Shellfish  \n",
      "1                  False  False       False      False  \n",
      "5                  False  False       False      False  \n",
      "7                  False  False       False      False  \n",
      "8                  False  False       False      False  \n",
      "9                  False  False       False      False  \n",
      "\n",
      "[5 rows x 38 columns]\n"
     ]
    }
   ],
   "source": [
    "#Task2_Part4_3. creating new variables to store each list element in the column “Food pairings”\n",
    "\n",
    "wine_df['Food pairings'] = wine_df['Food pairings'].apply(lambda x: eval(x) if isinstance(x, str) else [])\n",
    "\n",
    "# Get all unique food items\n",
    "unique_foods = set(food for pairings in wine_df['Food pairings'] for food in pairings)\n",
    "\n",
    "# Create new columns for each food item and populate with True/False\n",
    "for food in unique_foods:\n",
    "    wine_df[food] = wine_df['Food pairings'].apply(lambda x: food in x)\n",
    "\n",
    "# Drop the original 'Food pairings' column as it's no longer needed\n",
    "wine_df.drop(columns=['Food pairings'], inplace=True)\n",
    "\n",
    "# Display the updated DataFrame structure and the first few rows\n",
    "print(wine_df.info())\n",
    "print(wine_df.head())"
   ]
  },
  {
   "cell_type": "code",
   "execution_count": 15,
   "id": "11585bda-4bc4-4364-83b8-7ab465f21d02",
   "metadata": {},
   "outputs": [
    {
     "name": "stdout",
     "output_type": "stream",
     "text": [
      "<class 'pandas.core.frame.DataFrame'>\n",
      "Index: 2931 entries, 1 to 5144\n",
      "Data columns (total 34 columns):\n",
      " #   Column                        Non-Null Count  Dtype  \n",
      "---  ------                        --------------  -----  \n",
      " 0   Name                          2931 non-null   object \n",
      " 1   Rating                        2931 non-null   float64\n",
      " 2   Number of Ratings             2931 non-null   int64  \n",
      " 3   Price                         2931 non-null   float64\n",
      " 4   Winery                        2931 non-null   object \n",
      " 5   Alcohol content               2931 non-null   float64\n",
      " 6   Bold                          2931 non-null   float64\n",
      " 7   Tannin                        2931 non-null   float64\n",
      " 8   Sweet                         2931 non-null   float64\n",
      " 9   Acidic                        2931 non-null   float64\n",
      " 10  Country                       2931 non-null   object \n",
      " 11  Country_Region                2927 non-null   object \n",
      " 12  Pasta                         2931 non-null   bool   \n",
      " 13  Poultry                       2931 non-null   bool   \n",
      " 14  Aperitif                      2931 non-null   bool   \n",
      " 15  Lamb                          2931 non-null   bool   \n",
      " 16  Mature and hard cheese        2931 non-null   bool   \n",
      " 17  Sweet desserts                2931 non-null   bool   \n",
      " 18  Lean fish                     2931 non-null   bool   \n",
      " 19  Rich fish (salmon, tuna etc)  2931 non-null   bool   \n",
      " 20  Goat cheese                   2931 non-null   bool   \n",
      " 21  Veal                          2931 non-null   bool   \n",
      " 22  Blue cheese                   2931 non-null   bool   \n",
      " 23  Mild and soft cheese          2931 non-null   bool   \n",
      " 24  Mushrooms                     2931 non-null   bool   \n",
      " 25  Beef                          2931 non-null   bool   \n",
      " 26  Game (deer, venison)          2931 non-null   bool   \n",
      " 27  Spicy food                    2931 non-null   bool   \n",
      " 28  Fruity desserts               2931 non-null   bool   \n",
      " 29  Cured Meat                    2931 non-null   bool   \n",
      " 30  Appetizers and snacks         2931 non-null   bool   \n",
      " 31  Pork                          2931 non-null   bool   \n",
      " 32  Vegetarian                    2931 non-null   bool   \n",
      " 33  Shellfish                     2931 non-null   bool   \n",
      "dtypes: bool(22), float64(7), int64(1), object(4)\n",
      "memory usage: 360.7+ KB\n"
     ]
    }
   ],
   "source": [
    "#Task2_Part5_Column Removal\n",
    "columns_to_drop = ['Unnamed: 0', 'Region', 'Grapes', 'Wine style']\n",
    "wine_df_cleaned = wine_df.drop(columns=columns_to_drop)\n",
    "\n",
    "wine_df_cleaned.info() \n",
    "\n",
    "#reasons\n",
    "#The Unnamed column is an index from the original dataset, which is redundant as pandas already uses its own index.\n",
    "#The Region column is no longer needed after extracting Country and Country_region.\n",
    "#Grapes and Wine style columns have some missing values."
   ]
  },
  {
   "cell_type": "code",
   "execution_count": 16,
   "id": "f6625431-3847-46ae-9242-9a4ec1d19430",
   "metadata": {},
   "outputs": [],
   "source": [
    "# Save the cleaned DataFrame to a CSV file\n",
    "wine_df_cleaned.to_csv('preprocessed_wine_data.csv', index=False)"
   ]
  },
  {
   "cell_type": "code",
   "execution_count": null,
   "id": "b51ead78-13f6-433c-bdd6-686dab9f54cc",
   "metadata": {},
   "outputs": [],
   "source": []
  }
 ],
 "metadata": {
  "kernelspec": {
   "display_name": "Python 3 (ipykernel)",
   "language": "python",
   "name": "python3"
  },
  "language_info": {
   "codemirror_mode": {
    "name": "ipython",
    "version": 3
   },
   "file_extension": ".py",
   "mimetype": "text/x-python",
   "name": "python",
   "nbconvert_exporter": "python",
   "pygments_lexer": "ipython3",
   "version": "3.12.4"
  }
 },
 "nbformat": 4,
 "nbformat_minor": 5
}
