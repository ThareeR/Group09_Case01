{
 "cells": [
  {
   "cell_type": "code",
   "execution_count": 3,
   "id": "da024ab6-5605-442c-8b1e-84c4c488e44a",
   "metadata": {},
   "outputs": [],
   "source": [
    "import pandas as pd\n",
    "import glob\n",
    "file_paths = glob.glob(\"Wine_Stats/*.csv\")\n",
    "dataframes = [pd.read_csv(file) for file in file_paths]\n",
    "\n"
   ]
  },
  {
   "cell_type": "code",
   "execution_count": 5,
   "id": "3f6318a7-66c4-4019-97db-6b237f7a7c01",
   "metadata": {},
   "outputs": [
    {
     "name": "stdout",
     "output_type": "stream",
     "text": [
      "Combined DataFrame Shape: (5145, 15)\n",
      "   Unnamed: 0                                       Name  Rating  \\\n",
      "0           0                  Fields Of Joy Shiraz 2014     4.0   \n",
      "1           1                          Shotfire GSM 2018     3.9   \n",
      "2           2                  Passion has Red Lips 2020     3.8   \n",
      "3           3   The Hermit Crab Viognier - Marsanne 2018     3.8   \n",
      "4           4  Cabernet Sauvignon (Batch No. 1 & 3) 2019     3.8   \n",
      "\n",
      "   Number of Ratings  Price  \\\n",
      "0                203  28.99   \n",
      "1                 36  19.49   \n",
      "2                350  27.50   \n",
      "3               1026  16.99   \n",
      "4                969  14.99   \n",
      "\n",
      "                                              Region                  Winery  \\\n",
      "0  Australia / South Australia / Mount Lofty Rang...               Two Hands   \n",
      "1              Australia / South Australia / Barossa            Thorn-Clarke   \n",
      "2  Australia / South Australia / Fleurieu / McLar...        Some Young Punks   \n",
      "3  Australia / South Australia / Fleurieu / McLar...              d'Arenberg   \n",
      "4                Australia / South Eastern Australia  Gentleman's Collection   \n",
      "\n",
      "                      Wine style  Alcohol content  \\\n",
      "0              Australian Shiraz        13.794543   \n",
      "1     Australian Rhône Blend Red        14.500000   \n",
      "2   Australian Cabernet - Shiraz        13.794543   \n",
      "3                            NaN        13.794543   \n",
      "4  Australian Cabernet Sauvignon        13.794543   \n",
      "\n",
      "                              Grapes  \\\n",
      "0                                NaN   \n",
      "1  Mourvedre, Shiraz/Syrah, Grenache   \n",
      "2                                NaN   \n",
      "3                                NaN   \n",
      "4                                NaN   \n",
      "\n",
      "                                       Food pairings   Bold    Tannin  Sweet  \\\n",
      "0  ['Beef', 'Lamb', 'Game (deer, venison)', 'Poul...  85.00  47.13000  20.62   \n",
      "1  ['Beef', 'Pasta', 'Lamb', 'Game (deer, venison)']  85.00  50.63000   9.05   \n",
      "2                        ['Beef', 'Lamb', 'Poultry']  85.00  49.37000   8.19   \n",
      "3                                                 []  61.73  46.29527   9.05   \n",
      "4                        ['Beef', 'Lamb', 'Poultry']  76.34  49.36000  16.02   \n",
      "\n",
      "   Acidic  \n",
      "0  43.570  \n",
      "1  43.000  \n",
      "2  44.780  \n",
      "3  53.555  \n",
      "4  47.890  \n"
     ]
    }
   ],
   "source": [
    "wine_df = pd.concat(dataframes, ignore_index=True)\n",
    "print(f\"Combined DataFrame Shape: {wine_df.shape}\")\n",
    "print(wine_df.head())\n"
   ]
  },
  {
   "cell_type": "code",
   "execution_count": null,
   "id": "8c4f064e-2c73-4311-bed6-7ebc720d4941",
   "metadata": {},
   "outputs": [],
   "source": []
  }
 ],
 "metadata": {
  "kernelspec": {
   "display_name": "Python 3 (ipykernel)",
   "language": "python",
   "name": "python3"
  },
  "language_info": {
   "codemirror_mode": {
    "name": "ipython",
    "version": 3
   },
   "file_extension": ".py",
   "mimetype": "text/x-python",
   "name": "python",
   "nbconvert_exporter": "python",
   "pygments_lexer": "ipython3",
   "version": "3.12.7"
  }
 },
 "nbformat": 4,
 "nbformat_minor": 5
}
