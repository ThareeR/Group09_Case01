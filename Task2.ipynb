{
 "cells": [
  {
   "cell_type": "code",
   "execution_count": 1,
   "id": "da024ab6-5605-442c-8b1e-84c4c488e44a",
   "metadata": {},
   "outputs": [],
   "source": [
    "import pandas as pd\n",
    "import glob\n",
    "file_paths = glob.glob(\"Wine_Stats/*.csv\")\n",
    "dataframes = [pd.read_csv(file) for file in file_paths]"
   ]
  },
  {
   "cell_type": "code",
   "execution_count": 2,
   "id": "3f6318a7-66c4-4019-97db-6b237f7a7c01",
   "metadata": {},
   "outputs": [
    {
     "name": "stdout",
     "output_type": "stream",
     "text": [
      "Combined DataFrame Shape: (5145, 15)\n",
      "   Unnamed: 0                                       Name  Rating  \\\n",
      "0           0                  Fields Of Joy Shiraz 2014     4.0   \n",
      "1           1                          Shotfire GSM 2018     3.9   \n",
      "2           2                  Passion has Red Lips 2020     3.8   \n",
      "3           3   The Hermit Crab Viognier - Marsanne 2018     3.8   \n",
      "4           4  Cabernet Sauvignon (Batch No. 1 & 3) 2019     3.8   \n",
      "\n",
      "   Number of Ratings  Price  \\\n",
      "0                203  28.99   \n",
      "1                 36  19.49   \n",
      "2                350  27.50   \n",
      "3               1026  16.99   \n",
      "4                969  14.99   \n",
      "\n",
      "                                              Region                  Winery  \\\n",
      "0  Australia / South Australia / Mount Lofty Rang...               Two Hands   \n",
      "1              Australia / South Australia / Barossa            Thorn-Clarke   \n",
      "2  Australia / South Australia / Fleurieu / McLar...        Some Young Punks   \n",
      "3  Australia / South Australia / Fleurieu / McLar...              d'Arenberg   \n",
      "4                Australia / South Eastern Australia  Gentleman's Collection   \n",
      "\n",
      "                      Wine style  Alcohol content  \\\n",
      "0              Australian Shiraz        13.794543   \n",
      "1     Australian Rhône Blend Red        14.500000   \n",
      "2   Australian Cabernet - Shiraz        13.794543   \n",
      "3                            NaN        13.794543   \n",
      "4  Australian Cabernet Sauvignon        13.794543   \n",
      "\n",
      "                              Grapes  \\\n",
      "0                                NaN   \n",
      "1  Mourvedre, Shiraz/Syrah, Grenache   \n",
      "2                                NaN   \n",
      "3                                NaN   \n",
      "4                                NaN   \n",
      "\n",
      "                                       Food pairings   Bold    Tannin  Sweet  \\\n",
      "0  ['Beef', 'Lamb', 'Game (deer, venison)', 'Poul...  85.00  47.13000  20.62   \n",
      "1  ['Beef', 'Pasta', 'Lamb', 'Game (deer, venison)']  85.00  50.63000   9.05   \n",
      "2                        ['Beef', 'Lamb', 'Poultry']  85.00  49.37000   8.19   \n",
      "3                                                 []  61.73  46.29527   9.05   \n",
      "4                        ['Beef', 'Lamb', 'Poultry']  76.34  49.36000  16.02   \n",
      "\n",
      "   Acidic  \n",
      "0  43.570  \n",
      "1  43.000  \n",
      "2  44.780  \n",
      "3  53.555  \n",
      "4  47.890  \n"
     ]
    }
   ],
   "source": [
    "wine_df = pd.concat(dataframes, ignore_index=True)\n",
    "print(f\"Combined DataFrame Shape: {wine_df.shape}\")\n",
    "print(wine_df.head())"
   ]
  },
  {
   "cell_type": "code",
   "execution_count": 3,
   "id": "8c4f064e-2c73-4311-bed6-7ebc720d4941",
   "metadata": {},
   "outputs": [
    {
     "name": "stdout",
     "output_type": "stream",
     "text": [
      "<class 'pandas.core.frame.DataFrame'>\n",
      "RangeIndex: 5145 entries, 0 to 5144\n",
      "Data columns (total 15 columns):\n",
      " #   Column             Non-Null Count  Dtype  \n",
      "---  ------             --------------  -----  \n",
      " 0   Unnamed: 0         5145 non-null   int64  \n",
      " 1   Name               5145 non-null   object \n",
      " 2   Rating             5145 non-null   float64\n",
      " 3   Number of Ratings  5145 non-null   int64  \n",
      " 4   Price              5145 non-null   float64\n",
      " 5   Region             5145 non-null   object \n",
      " 6   Winery             5142 non-null   object \n",
      " 7   Wine style         4624 non-null   object \n",
      " 8   Alcohol content    5145 non-null   float64\n",
      " 9   Grapes             2977 non-null   object \n",
      " 10  Food pairings      5145 non-null   object \n",
      " 11  Bold               5145 non-null   float64\n",
      " 12  Tannin             5145 non-null   float64\n",
      " 13  Sweet              5145 non-null   float64\n",
      " 14  Acidic             5145 non-null   float64\n",
      "dtypes: float64(7), int64(2), object(6)\n",
      "memory usage: 603.1+ KB\n",
      "None\n"
     ]
    }
   ],
   "source": [
    "print(wine_df.info()) #Gives an overview of the DataFrame"
   ]
  },
  {
   "cell_type": "code",
   "execution_count": 4,
   "id": "285ecb95-920c-4ad2-a8a7-835b56ff9f4e",
   "metadata": {},
   "outputs": [
    {
     "name": "stdout",
     "output_type": "stream",
     "text": [
      "Unnamed: 0             int64\n",
      "Name                  object\n",
      "Rating               float64\n",
      "Number of Ratings      int64\n",
      "Price                float64\n",
      "Region                object\n",
      "Winery                object\n",
      "Wine style            object\n",
      "Alcohol content      float64\n",
      "Grapes                object\n",
      "Food pairings         object\n",
      "Bold                 float64\n",
      "Tannin               float64\n",
      "Sweet                float64\n",
      "Acidic               float64\n",
      "dtype: object\n"
     ]
    }
   ],
   "source": [
    "print(wine_df.dtypes) #Gives only the data types of each column in the DataFrame"
   ]
  },
  {
   "cell_type": "code",
   "execution_count": 5,
   "id": "f7a9b0f1-7fbb-4971-b38b-c4302610eace",
   "metadata": {},
   "outputs": [
    {
     "name": "stdout",
     "output_type": "stream",
     "text": [
      "        Unnamed: 0       Rating  Number of Ratings        Price  \\\n",
      "count  5145.000000  5145.000000        5145.000000  5145.000000   \n",
      "mean    503.271914     4.000292         601.032653    27.424618   \n",
      "std     406.492427     0.157726        2725.500208    10.645818   \n",
      "min       0.000000     3.700000          25.000000     6.500000   \n",
      "25%     164.000000     3.900000          73.000000    19.980000   \n",
      "50%     377.000000     4.000000         189.000000    25.990000   \n",
      "75%     790.000000     4.100000         483.000000    34.000000   \n",
      "max    1436.000000     4.600000      159937.000000   155.000000   \n",
      "\n",
      "       Alcohol content         Bold       Tannin        Sweet       Acidic  \n",
      "count      5145.000000  5145.000000  5145.000000  5145.000000  5145.000000  \n",
      "mean         13.794363    57.990384    46.293535    12.259602    54.096125  \n",
      "std           1.242644    19.081310    11.092394    12.306948    14.463969  \n",
      "min           5.000000     0.060000     1.400000     0.010000     7.230000  \n",
      "25%          13.500000    45.330000    46.295270     6.230000    44.700000  \n",
      "50%          13.794543    61.730000    46.295270     9.050000    53.555000  \n",
      "75%          14.000000    69.620000    48.610000    13.200000    63.550000  \n",
      "max          20.500000    85.000000    85.000000    85.000000    85.000000  \n"
     ]
    }
   ],
   "source": [
    "print(wine_df.describe())  #Gives a summary of the statistical properties of the numerical columns in the DataFrame"
   ]
  },
  {
   "cell_type": "code",
   "execution_count": 6,
   "id": "9a221a5f-5834-42cb-94c3-bc905c1d9c3f",
   "metadata": {},
   "outputs": [],
   "source": [
    "#Task2_Part2_2.Remove any duplicate records\n",
    "wine_df = wine_df.drop_duplicates()"
   ]
  },
  {
   "cell_type": "code",
   "execution_count": 7,
   "id": "e0edc829-8c00-41b1-a1ac-94d60c076cb3",
   "metadata": {},
   "outputs": [
    {
     "name": "stdout",
     "output_type": "stream",
     "text": [
      "Unnamed: 0              0\n",
      "Name                    0\n",
      "Rating                  0\n",
      "Number of Ratings       0\n",
      "Price                   0\n",
      "Region                  0\n",
      "Winery                  3\n",
      "Wine style            521\n",
      "Alcohol content         0\n",
      "Grapes               2168\n",
      "Food pairings           0\n",
      "Bold                    0\n",
      "Tannin                  0\n",
      "Sweet                   0\n",
      "Acidic                  0\n",
      "dtype: int64\n"
     ]
    }
   ],
   "source": [
    "#removing null records\n",
    "print(wine_df.isnull().sum())\n",
    "wine_df = wine_df.dropna()"
   ]
  },
  {
   "cell_type": "code",
   "execution_count": 8,
   "id": "b722ce37-d328-41a2-9088-236eeed7f674",
   "metadata": {},
   "outputs": [],
   "source": [
    "#Task 02 - 3. Handle outliers and missing values\n",
    "\n",
    "Q1 = wine_df['Price'].quantile(0.25)\n",
    "Q3 = wine_df['Price'].quantile(0.75)\n",
    "IQR = Q3 - Q1\n",
    "upper_threshold = Q3 + 1.5 * IQR \n",
    "\n"
   ]
  },
  {
   "cell_type": "code",
   "execution_count": 9,
   "id": "157f9af1-becb-4ea6-8596-62b84e7ab1ca",
   "metadata": {},
   "outputs": [
    {
     "data": {
      "image/png": "[encoded data removed]",
      "text/plain": [
       "<Figure size 640x480 with 1 Axes>"
      ]
     },
     "metadata": {},
     "output_type": "display_data"
    }
   ],
   "source": [
    "import matplotlib.pyplot as plt\n",
    "plt.boxplot(wine_df['Price'])\n",
    "plt.title(\"Price Distribution\")\n",
    "plt.show()\n",
    "\n",
    "wine_df = wine_df[wine_df['Price'] < upper_threshold]\n",
    "wine_df.fillna({'Price':wine_df['Price'].mean()},inplace=True)\n",
    "\n",
    "#Reasons for handling outliers and missing values.\n",
    "#Missing values reduces data quality and introducing bias.\n",
    "#The column or rows remove when a column has too many missing values."
   ]
  },
  {
   "cell_type": "code",
   "execution_count": 10,
   "id": "8537dd87-2b21-4392-b47d-c876ca6bdb00",
   "metadata": {},
   "outputs": [
    {
     "name": "stdout",
     "output_type": "stream",
     "text": [
      "   Unnamed: 0                       Name  Rating  Number of Ratings  Price  \\\n",
      "1           1          Shotfire GSM 2018     3.9                 36  19.49   \n",
      "5           5  Passion has Red Lips 2014     3.8                648  18.49   \n",
      "7           7         Jester Shiraz 2018     3.9                658  22.00   \n",
      "8           8     Shotfire Quartage 2016     3.8                 93  17.99   \n",
      "9           9     Stonehorse Shiraz 2018     4.0                288  29.17   \n",
      "\n",
      "                                              Region            Winery  \\\n",
      "1              Australia / South Australia / Barossa      Thorn-Clarke   \n",
      "5  Australia / South Australia / Fleurieu / McLar...  Some Young Punks   \n",
      "7  Australia / South Australia / Fleurieu / McLar...            Mitolo   \n",
      "8              Australia / South Australia / Barossa      Thorn-Clarke   \n",
      "9  Australia / South Australia / Barossa / Baross...           Kaesler   \n",
      "\n",
      "                     Wine style  Alcohol content  \\\n",
      "1    Australian Rhône Blend Red             14.5   \n",
      "5  Australian Cabernet - Shiraz             14.5   \n",
      "7             Australian Shiraz             14.5   \n",
      "8     Australian Bordeaux Blend             14.5   \n",
      "9             Australian Shiraz             14.0   \n",
      "\n",
      "                                       Grapes  \\\n",
      "1           Mourvedre, Shiraz/Syrah, Grenache   \n",
      "5      70 Shiraz/Syrah, 30 Cabernet Sauvignon   \n",
      "7                            100 Shiraz/Syrah   \n",
      "8  Cabernet Franc, Malbec, Cabernet Sauvignon   \n",
      "9                            100 Shiraz/Syrah   \n",
      "\n",
      "                                       Food pairings   Bold  Tannin  Sweet  \\\n",
      "1  ['Beef', 'Pasta', 'Lamb', 'Game (deer, venison)']  85.00   50.63   9.05   \n",
      "5                        ['Beef', 'Lamb', 'Poultry']  85.00   49.37   8.19   \n",
      "7  ['Beef', 'Lamb', 'Game (deer, venison)', 'Poul...  85.00   46.65  19.07   \n",
      "8  ['Beef', 'Pasta', 'Lamb', 'Game (deer, venison...  85.00   56.40  10.85   \n",
      "9  ['Beef', 'Lamb', 'Game (deer, venison)', 'Poul...  84.04   44.21  22.10   \n",
      "\n",
      "   Acidic    Country  \n",
      "1   43.00  Australia  \n",
      "5   44.78  Australia  \n",
      "7   44.18  Australia  \n",
      "8   65.28  Australia  \n",
      "9   41.95  Australia  \n"
     ]
    }
   ],
   "source": [
    "#Task2_part4_Adding new columns to the data frame\n",
    "#Country\n",
    "wine_df['Country'] = wine_df['Region'].apply(lambda x: x.split(' / ')[0])\n",
    "print(wine_df.head())"
   ]
  },
  {
   "cell_type": "code",
   "execution_count": 11,
   "id": "d71f962e-42c2-4398-b2d2-a763ee685ef8",
   "metadata": {},
   "outputs": [],
   "source": [
    "#Task2_part4_Adding new columns to the data frame\n",
    "#2.Country_region\n",
    "wine_df['Country_Region'] = wine_df['Region'].apply(lambda x: x.split(' / ')[1] if ' / ' in x else None)\n"
   ]
  },
  {
   "cell_type": "code",
   "execution_count": 12,
   "id": "22183c40-548d-4481-9358-926e73670c8d",
   "metadata": {},
   "outputs": [
    {
     "name": "stdout",
     "output_type": "stream",
     "text": [
      "   Unnamed: 0                       Name  Rating  Number of Ratings  Price  \\\n",
      "1         1.0          Shotfire GSM 2018     3.9               36.0  19.49   \n",
      "5         5.0  Passion has Red Lips 2014     3.8              648.0  18.49   \n",
      "7         7.0         Jester Shiraz 2018     3.9              658.0  22.00   \n",
      "8         8.0     Shotfire Quartage 2016     3.8               93.0  17.99   \n",
      "9         9.0     Stonehorse Shiraz 2018     4.0              288.0  29.17   \n",
      "\n",
      "                                              Region            Winery  \\\n",
      "1              Australia / South Australia / Barossa      Thorn-Clarke   \n",
      "5  Australia / South Australia / Fleurieu / McLar...  Some Young Punks   \n",
      "7  Australia / South Australia / Fleurieu / McLar...            Mitolo   \n",
      "8              Australia / South Australia / Barossa      Thorn-Clarke   \n",
      "9  Australia / South Australia / Barossa / Baross...           Kaesler   \n",
      "\n",
      "                     Wine style  Alcohol content  \\\n",
      "1    Australian Rhône Blend Red             14.5   \n",
      "5  Australian Cabernet - Shiraz             14.5   \n",
      "7             Australian Shiraz             14.5   \n",
      "8     Australian Bordeaux Blend             14.5   \n",
      "9             Australian Shiraz             14.0   \n",
      "\n",
      "                                       Grapes  ...  Sweet  Acidic    Country  \\\n",
      "1           Mourvedre, Shiraz/Syrah, Grenache  ...   9.05   43.00  Australia   \n",
      "5      70 Shiraz/Syrah, 30 Cabernet Sauvignon  ...   8.19   44.78  Australia   \n",
      "7                            100 Shiraz/Syrah  ...  19.07   44.18  Australia   \n",
      "8  Cabernet Franc, Malbec, Cabernet Sauvignon  ...  10.85   65.28  Australia   \n",
      "9                            100 Shiraz/Syrah  ...  22.10   41.95  Australia   \n",
      "\n",
      "    Country_Region  Beef  Pasta  Lamb Poultry Seafood Cheese  \n",
      "1  South Australia  True  False  True    True   False  False  \n",
      "5  South Australia  True  False  True    True   False  False  \n",
      "7  South Australia  True  False  True    True   False  False  \n",
      "8  South Australia  True  False  True    True   False  False  \n",
      "9  South Australia  True  False  True    True   False  False  \n",
      "\n",
      "[5 rows x 23 columns]\n"
     ]
    }
   ],
   "source": [
    "#Task2_Part4_3. creating new variables to store each list element in the column “Food pairings”\n",
    "from ast import literal_eval\n",
    "food_categories = ['Beef', 'Pasta', 'Lamb', 'Poultry', 'Seafood', 'Cheese']  # Extend this list as required\n",
    "def expand_food_pairings(row):\n",
    "    try:\n",
    "        pairings = literal_eval(row) if isinstance(row, str) else []\n",
    "    except (ValueError, SyntaxError):\n",
    "        pairings = []\n",
    "    return {food: (food in pairings) for food in food_categories}\n",
    "food_expanded = wine_df['Food pairings'].apply(expand_food_pairings)\n",
    "food_df = pd.DataFrame(list(food_expanded))\n",
    "wine_df = pd.concat([wine_df, food_df], axis=1)\n",
    "\n",
    "print(wine_df.head())"
   ]
  },
  {
   "cell_type": "code",
   "execution_count": null,
   "id": "11585bda-4bc4-4364-83b8-7ab465f21d02",
   "metadata": {},
   "outputs": [],
   "source": []
  }
 ],
 "metadata": {
  "kernelspec": {
   "display_name": "Python 3 (ipykernel)",
   "language": "python",
   "name": "python3"
  },
  "language_info": {
   "codemirror_mode": {
    "name": "ipython",
    "version": 3
   },
   "file_extension": ".py",
   "mimetype": "text/x-python",
   "name": "python",
   "nbconvert_exporter": "python",
   "pygments_lexer": "ipython3",
   "version": "3.12.7"
  }
 },
 "nbformat": 4,
 "nbformat_minor": 5
}
